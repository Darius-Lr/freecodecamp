{
 "cells": [
  {
   "metadata": {
    "ExecuteTime": {
     "end_time": "2025-09-30T16:31:03.905937Z",
     "start_time": "2025-09-30T16:31:03.899071Z"
    }
   },
   "cell_type": "code",
   "source": [
    "import matplotlib.pyplot as plt\n",
    "import pandas as pd\n",
    "import seaborn as sns\n",
    "from pandas.plotting import register_matplotlib_converters\n",
    "register_matplotlib_converters()"
   ],
   "id": "a78bba2f86dee3ea",
   "outputs": [],
   "execution_count": 3
  },
  {
   "metadata": {
    "collapsed": true,
    "ExecuteTime": {
     "end_time": "2025-09-30T16:45:13.774692Z",
     "start_time": "2025-09-30T16:45:13.752814Z"
    }
   },
   "cell_type": "code",
   "source": [
    "df = pd.read_csv('fcc-forum-pageviews.csv',index_col=\"date\"\n",
    "                 ,parse_dates=True)"
   ],
   "id": "c18fbab89e078b3b",
   "outputs": [],
   "execution_count": 14
  },
  {
   "metadata": {
    "ExecuteTime": {
     "end_time": "2025-09-30T16:34:30.688182Z",
     "start_time": "2025-09-30T16:34:30.676314Z"
    }
   },
   "cell_type": "code",
   "source": "df",
   "id": "1507adbae2318737",
   "outputs": [
    {
     "data": {
      "text/plain": [
       "             value\n",
       "date              \n",
       "2016-05-09    1201\n",
       "2016-05-10    2329\n",
       "2016-05-11    1716\n",
       "2016-05-12   10539\n",
       "2016-05-13    6933\n",
       "...            ...\n",
       "2019-11-29  171584\n",
       "2019-11-30  141161\n",
       "2019-12-01  142918\n",
       "2019-12-02  220144\n",
       "2019-12-03  158549\n",
       "\n",
       "[1304 rows x 1 columns]"
      ],
      "text/html": [
       "<div>\n",
       "<style scoped>\n",
       "    .dataframe tbody tr th:only-of-type {\n",
       "        vertical-align: middle;\n",
       "    }\n",
       "\n",
       "    .dataframe tbody tr th {\n",
       "        vertical-align: top;\n",
       "    }\n",
       "\n",
       "    .dataframe thead th {\n",
       "        text-align: right;\n",
       "    }\n",
       "</style>\n",
       "<table border=\"1\" class=\"dataframe\">\n",
       "  <thead>\n",
       "    <tr style=\"text-align: right;\">\n",
       "      <th></th>\n",
       "      <th>value</th>\n",
       "    </tr>\n",
       "    <tr>\n",
       "      <th>date</th>\n",
       "      <th></th>\n",
       "    </tr>\n",
       "  </thead>\n",
       "  <tbody>\n",
       "    <tr>\n",
       "      <th>2016-05-09</th>\n",
       "      <td>1201</td>\n",
       "    </tr>\n",
       "    <tr>\n",
       "      <th>2016-05-10</th>\n",
       "      <td>2329</td>\n",
       "    </tr>\n",
       "    <tr>\n",
       "      <th>2016-05-11</th>\n",
       "      <td>1716</td>\n",
       "    </tr>\n",
       "    <tr>\n",
       "      <th>2016-05-12</th>\n",
       "      <td>10539</td>\n",
       "    </tr>\n",
       "    <tr>\n",
       "      <th>2016-05-13</th>\n",
       "      <td>6933</td>\n",
       "    </tr>\n",
       "    <tr>\n",
       "      <th>...</th>\n",
       "      <td>...</td>\n",
       "    </tr>\n",
       "    <tr>\n",
       "      <th>2019-11-29</th>\n",
       "      <td>171584</td>\n",
       "    </tr>\n",
       "    <tr>\n",
       "      <th>2019-11-30</th>\n",
       "      <td>141161</td>\n",
       "    </tr>\n",
       "    <tr>\n",
       "      <th>2019-12-01</th>\n",
       "      <td>142918</td>\n",
       "    </tr>\n",
       "    <tr>\n",
       "      <th>2019-12-02</th>\n",
       "      <td>220144</td>\n",
       "    </tr>\n",
       "    <tr>\n",
       "      <th>2019-12-03</th>\n",
       "      <td>158549</td>\n",
       "    </tr>\n",
       "  </tbody>\n",
       "</table>\n",
       "<p>1304 rows × 1 columns</p>\n",
       "</div>"
      ]
     },
     "execution_count": 9,
     "metadata": {},
     "output_type": "execute_result"
    }
   ],
   "execution_count": 9
  },
  {
   "metadata": {
    "ExecuteTime": {
     "end_time": "2025-09-30T16:45:16.591933Z",
     "start_time": "2025-09-30T16:45:16.584229Z"
    }
   },
   "cell_type": "code",
   "source": [
    "low_views=df['value'].quantile(0.025)\n",
    "high_views=df['value'].quantile(0.975)\n",
    "df = df[(df['value']>low_views) & (df['value']<high_views)]"
   ],
   "id": "29c1ae002907f239",
   "outputs": [],
   "execution_count": 15
  },
  {
   "metadata": {
    "ExecuteTime": {
     "end_time": "2025-09-30T16:38:26.512183Z",
     "start_time": "2025-09-30T16:38:26.497890Z"
    }
   },
   "cell_type": "code",
   "source": "df",
   "id": "784eedc2c5036a00",
   "outputs": [
    {
     "data": {
      "text/plain": [
       "             value\n",
       "date              \n",
       "2016-05-19   19736\n",
       "2016-05-26   18060\n",
       "2016-05-27   19997\n",
       "2016-05-28   19044\n",
       "2016-05-29   20325\n",
       "...            ...\n",
       "2019-11-24  138875\n",
       "2019-11-29  171584\n",
       "2019-11-30  141161\n",
       "2019-12-01  142918\n",
       "2019-12-03  158549\n",
       "\n",
       "[1238 rows x 1 columns]"
      ],
      "text/html": [
       "<div>\n",
       "<style scoped>\n",
       "    .dataframe tbody tr th:only-of-type {\n",
       "        vertical-align: middle;\n",
       "    }\n",
       "\n",
       "    .dataframe tbody tr th {\n",
       "        vertical-align: top;\n",
       "    }\n",
       "\n",
       "    .dataframe thead th {\n",
       "        text-align: right;\n",
       "    }\n",
       "</style>\n",
       "<table border=\"1\" class=\"dataframe\">\n",
       "  <thead>\n",
       "    <tr style=\"text-align: right;\">\n",
       "      <th></th>\n",
       "      <th>value</th>\n",
       "    </tr>\n",
       "    <tr>\n",
       "      <th>date</th>\n",
       "      <th></th>\n",
       "    </tr>\n",
       "  </thead>\n",
       "  <tbody>\n",
       "    <tr>\n",
       "      <th>2016-05-19</th>\n",
       "      <td>19736</td>\n",
       "    </tr>\n",
       "    <tr>\n",
       "      <th>2016-05-26</th>\n",
       "      <td>18060</td>\n",
       "    </tr>\n",
       "    <tr>\n",
       "      <th>2016-05-27</th>\n",
       "      <td>19997</td>\n",
       "    </tr>\n",
       "    <tr>\n",
       "      <th>2016-05-28</th>\n",
       "      <td>19044</td>\n",
       "    </tr>\n",
       "    <tr>\n",
       "      <th>2016-05-29</th>\n",
       "      <td>20325</td>\n",
       "    </tr>\n",
       "    <tr>\n",
       "      <th>...</th>\n",
       "      <td>...</td>\n",
       "    </tr>\n",
       "    <tr>\n",
       "      <th>2019-11-24</th>\n",
       "      <td>138875</td>\n",
       "    </tr>\n",
       "    <tr>\n",
       "      <th>2019-11-29</th>\n",
       "      <td>171584</td>\n",
       "    </tr>\n",
       "    <tr>\n",
       "      <th>2019-11-30</th>\n",
       "      <td>141161</td>\n",
       "    </tr>\n",
       "    <tr>\n",
       "      <th>2019-12-01</th>\n",
       "      <td>142918</td>\n",
       "    </tr>\n",
       "    <tr>\n",
       "      <th>2019-12-03</th>\n",
       "      <td>158549</td>\n",
       "    </tr>\n",
       "  </tbody>\n",
       "</table>\n",
       "<p>1238 rows × 1 columns</p>\n",
       "</div>"
      ]
     },
     "execution_count": 11,
     "metadata": {},
     "output_type": "execute_result"
    }
   ],
   "execution_count": 11
  },
  {
   "metadata": {
    "ExecuteTime": {
     "end_time": "2025-09-30T16:48:55.300776Z",
     "start_time": "2025-09-30T16:48:55.013295Z"
    }
   },
   "cell_type": "code",
   "source": [
    "xpoints=df.index\n",
    "ypoints=df['value']\n",
    "plt.plot(xpoints,ypoints,color='green')\n",
    "plt.title('Daily freeCodeCamp Forum Page Views 5/2016-12/2019')\n",
    "plt.xlabel('Date')\n",
    "plt.ylabel('Page Views')"
   ],
   "id": "d127c09db33fb9be",
   "outputs": [
    {
     "data": {
      "text/plain": [
       "Text(0, 0.5, 'Page Views')"
      ]
     },
     "execution_count": 20,
     "metadata": {},
     "output_type": "execute_result"
    },
    {
     "data": {
      "text/plain": [
       "<Figure size 640x480 with 1 Axes>"
      ],
      "image/png": "[encoded data removed]"
     },
     "metadata": {},
     "output_type": "display_data",
     "jetTransient": {
      "display_id": null
     }
    }
   ],
   "execution_count": 20
  },
  {
   "metadata": {
    "ExecuteTime": {
     "end_time": "2025-09-30T17:17:59.111181Z",
     "start_time": "2025-09-30T17:17:59.101619Z"
    }
   },
   "cell_type": "code",
   "source": [
    "df = pd.read_csv('fcc-forum-pageviews.csv', index_col=\"date\")\n",
    "months=[]\n",
    "years=[]\n",
    "for x in df.index:\n",
    "    parts=x.split('-')\n",
    "    months.append(parts[1])\n",
    "    years.append(parts[0])\n",
    "data={\n",
    "    \"years\": years,\n",
    "    \"months\": months,\n",
    "    \"value\": df['value'].values\n",
    "}\n",
    "df_bar=pd.DataFrame(data)"
   ],
   "id": "caa91ca0eae03b07",
   "outputs": [],
   "execution_count": 30
  },
  {
   "metadata": {
    "ExecuteTime": {
     "end_time": "2025-09-30T17:18:00.836355Z",
     "start_time": "2025-09-30T17:18:00.812775Z"
    }
   },
   "cell_type": "code",
   "source": "df_bar",
   "id": "b12da002fddf2d22",
   "outputs": [
    {
     "data": {
      "text/plain": [
       "     years months   value\n",
       "0     2016     05    1201\n",
       "1     2016     05    2329\n",
       "2     2016     05    1716\n",
       "3     2016     05   10539\n",
       "4     2016     05    6933\n",
       "...    ...    ...     ...\n",
       "1299  2019     11  171584\n",
       "1300  2019     11  141161\n",
       "1301  2019     12  142918\n",
       "1302  2019     12  220144\n",
       "1303  2019     12  158549\n",
       "\n",
       "[1304 rows x 3 columns]"
      ],
      "text/html": [
       "<div>\n",
       "<style scoped>\n",
       "    .dataframe tbody tr th:only-of-type {\n",
       "        vertical-align: middle;\n",
       "    }\n",
       "\n",
       "    .dataframe tbody tr th {\n",
       "        vertical-align: top;\n",
       "    }\n",
       "\n",
       "    .dataframe thead th {\n",
       "        text-align: right;\n",
       "    }\n",
       "</style>\n",
       "<table border=\"1\" class=\"dataframe\">\n",
       "  <thead>\n",
       "    <tr style=\"text-align: right;\">\n",
       "      <th></th>\n",
       "      <th>years</th>\n",
       "      <th>months</th>\n",
       "      <th>value</th>\n",
       "    </tr>\n",
       "  </thead>\n",
       "  <tbody>\n",
       "    <tr>\n",
       "      <th>0</th>\n",
       "      <td>2016</td>\n",
       "      <td>05</td>\n",
       "      <td>1201</td>\n",
       "    </tr>\n",
       "    <tr>\n",
       "      <th>1</th>\n",
       "      <td>2016</td>\n",
       "      <td>05</td>\n",
       "      <td>2329</td>\n",
       "    </tr>\n",
       "    <tr>\n",
       "      <th>2</th>\n",
       "      <td>2016</td>\n",
       "      <td>05</td>\n",
       "      <td>1716</td>\n",
       "    </tr>\n",
       "    <tr>\n",
       "      <th>3</th>\n",
       "      <td>2016</td>\n",
       "      <td>05</td>\n",
       "      <td>10539</td>\n",
       "    </tr>\n",
       "    <tr>\n",
       "      <th>4</th>\n",
       "      <td>2016</td>\n",
       "      <td>05</td>\n",
       "      <td>6933</td>\n",
       "    </tr>\n",
       "    <tr>\n",
       "      <th>...</th>\n",
       "      <td>...</td>\n",
       "      <td>...</td>\n",
       "      <td>...</td>\n",
       "    </tr>\n",
       "    <tr>\n",
       "      <th>1299</th>\n",
       "      <td>2019</td>\n",
       "      <td>11</td>\n",
       "      <td>171584</td>\n",
       "    </tr>\n",
       "    <tr>\n",
       "      <th>1300</th>\n",
       "      <td>2019</td>\n",
       "      <td>11</td>\n",
       "      <td>141161</td>\n",
       "    </tr>\n",
       "    <tr>\n",
       "      <th>1301</th>\n",
       "      <td>2019</td>\n",
       "      <td>12</td>\n",
       "      <td>142918</td>\n",
       "    </tr>\n",
       "    <tr>\n",
       "      <th>1302</th>\n",
       "      <td>2019</td>\n",
       "      <td>12</td>\n",
       "      <td>220144</td>\n",
       "    </tr>\n",
       "    <tr>\n",
       "      <th>1303</th>\n",
       "      <td>2019</td>\n",
       "      <td>12</td>\n",
       "      <td>158549</td>\n",
       "    </tr>\n",
       "  </tbody>\n",
       "</table>\n",
       "<p>1304 rows × 3 columns</p>\n",
       "</div>"
      ]
     },
     "execution_count": 31,
     "metadata": {},
     "output_type": "execute_result"
    }
   ],
   "execution_count": 31
  },
  {
   "metadata": {
    "ExecuteTime": {
     "end_time": "2025-09-30T17:20:50.118610Z",
     "start_time": "2025-09-30T17:20:50.106582Z"
    }
   },
   "cell_type": "code",
   "source": "df_bar['average']=df_bar.groupby(['years', 'months'])['value'].transform('mean')",
   "id": "3f3be9957f76902c",
   "outputs": [],
   "execution_count": 34
  },
  {
   "metadata": {
    "ExecuteTime": {
     "end_time": "2025-09-30T17:20:58.225028Z",
     "start_time": "2025-09-30T17:20:58.213744Z"
    }
   },
   "cell_type": "code",
   "source": "df_bar",
   "id": "76b6f97299cd25a1",
   "outputs": [
    {
     "data": {
      "text/plain": [
       "     years months   value        average\n",
       "0     2016     05    1201   11242.695652\n",
       "1     2016     05    2329   11242.695652\n",
       "2     2016     05    1716   11242.695652\n",
       "3     2016     05   10539   11242.695652\n",
       "4     2016     05    6933   11242.695652\n",
       "...    ...    ...     ...            ...\n",
       "1299  2019     11  171584  181026.700000\n",
       "1300  2019     11  141161  181026.700000\n",
       "1301  2019     12  142918  173870.333333\n",
       "1302  2019     12  220144  173870.333333\n",
       "1303  2019     12  158549  173870.333333\n",
       "\n",
       "[1304 rows x 4 columns]"
      ],
      "text/html": [
       "<div>\n",
       "<style scoped>\n",
       "    .dataframe tbody tr th:only-of-type {\n",
       "        vertical-align: middle;\n",
       "    }\n",
       "\n",
       "    .dataframe tbody tr th {\n",
       "        vertical-align: top;\n",
       "    }\n",
       "\n",
       "    .dataframe thead th {\n",
       "        text-align: right;\n",
       "    }\n",
       "</style>\n",
       "<table border=\"1\" class=\"dataframe\">\n",
       "  <thead>\n",
       "    <tr style=\"text-align: right;\">\n",
       "      <th></th>\n",
       "      <th>years</th>\n",
       "      <th>months</th>\n",
       "      <th>value</th>\n",
       "      <th>average</th>\n",
       "    </tr>\n",
       "  </thead>\n",
       "  <tbody>\n",
       "    <tr>\n",
       "      <th>0</th>\n",
       "      <td>2016</td>\n",
       "      <td>05</td>\n",
       "      <td>1201</td>\n",
       "      <td>11242.695652</td>\n",
       "    </tr>\n",
       "    <tr>\n",
       "      <th>1</th>\n",
       "      <td>2016</td>\n",
       "      <td>05</td>\n",
       "      <td>2329</td>\n",
       "      <td>11242.695652</td>\n",
       "    </tr>\n",
       "    <tr>\n",
       "      <th>2</th>\n",
       "      <td>2016</td>\n",
       "      <td>05</td>\n",
       "      <td>1716</td>\n",
       "      <td>11242.695652</td>\n",
       "    </tr>\n",
       "    <tr>\n",
       "      <th>3</th>\n",
       "      <td>2016</td>\n",
       "      <td>05</td>\n",
       "      <td>10539</td>\n",
       "      <td>11242.695652</td>\n",
       "    </tr>\n",
       "    <tr>\n",
       "      <th>4</th>\n",
       "      <td>2016</td>\n",
       "      <td>05</td>\n",
       "      <td>6933</td>\n",
       "      <td>11242.695652</td>\n",
       "    </tr>\n",
       "    <tr>\n",
       "      <th>...</th>\n",
       "      <td>...</td>\n",
       "      <td>...</td>\n",
       "      <td>...</td>\n",
       "      <td>...</td>\n",
       "    </tr>\n",
       "    <tr>\n",
       "      <th>1299</th>\n",
       "      <td>2019</td>\n",
       "      <td>11</td>\n",
       "      <td>171584</td>\n",
       "      <td>181026.700000</td>\n",
       "    </tr>\n",
       "    <tr>\n",
       "      <th>1300</th>\n",
       "      <td>2019</td>\n",
       "      <td>11</td>\n",
       "      <td>141161</td>\n",
       "      <td>181026.700000</td>\n",
       "    </tr>\n",
       "    <tr>\n",
       "      <th>1301</th>\n",
       "      <td>2019</td>\n",
       "      <td>12</td>\n",
       "      <td>142918</td>\n",
       "      <td>173870.333333</td>\n",
       "    </tr>\n",
       "    <tr>\n",
       "      <th>1302</th>\n",
       "      <td>2019</td>\n",
       "      <td>12</td>\n",
       "      <td>220144</td>\n",
       "      <td>173870.333333</td>\n",
       "    </tr>\n",
       "    <tr>\n",
       "      <th>1303</th>\n",
       "      <td>2019</td>\n",
       "      <td>12</td>\n",
       "      <td>158549</td>\n",
       "      <td>173870.333333</td>\n",
       "    </tr>\n",
       "  </tbody>\n",
       "</table>\n",
       "<p>1304 rows × 4 columns</p>\n",
       "</div>"
      ]
     },
     "execution_count": 35,
     "metadata": {},
     "output_type": "execute_result"
    }
   ],
   "execution_count": 35
  },
  {
   "metadata": {
    "ExecuteTime": {
     "end_time": "2025-09-30T17:27:34.770114Z",
     "start_time": "2025-09-30T17:27:34.743506Z"
    }
   },
   "cell_type": "code",
   "outputs": [],
   "execution_count": 43,
   "source": " df_grouped = df_bar.groupby(['years', 'months'])['value'].mean().unstack()",
   "id": "2373fbb60606c578"
  },
  {
   "metadata": {
    "ExecuteTime": {
     "end_time": "2025-09-30T17:27:46.036813Z",
     "start_time": "2025-09-30T17:27:46.019666Z"
    }
   },
   "cell_type": "code",
   "outputs": [
    {
     "data": {
      "text/plain": [
       "months             01             02            03            04  \\\n",
       "years                                                              \n",
       "2016              NaN            NaN           NaN           NaN   \n",
       "2017     32785.161290   31113.071429  29369.096774  30878.733333   \n",
       "2018     58580.096774   65679.000000  62693.774194  62350.833333   \n",
       "2019    102056.516129  105968.357143  91214.483871  89368.433333   \n",
       "\n",
       "months            05             06             07             08  \\\n",
       "years                                                               \n",
       "2016    11242.695652   19124.366667   23314.225806   31049.193548   \n",
       "2017    34244.290323   43577.500000   65806.838710   47712.451613   \n",
       "2018    56562.870968   70117.000000   63591.064516   62831.612903   \n",
       "2019    91439.903226  162402.600000  100804.451613  117991.032258   \n",
       "\n",
       "months            09             10             11             12  \n",
       "years                                                              \n",
       "2016    41476.866667   27398.322581   40448.633333   27832.419355  \n",
       "2017    47376.800000   47438.709677   57701.566667   48420.580645  \n",
       "2018    65941.733333  112592.000000   78688.333333   80047.483871  \n",
       "2019    97268.833333  150862.709677  181026.700000  173870.333333  "
      ],
      "text/html": [
       "<div>\n",
       "<style scoped>\n",
       "    .dataframe tbody tr th:only-of-type {\n",
       "        vertical-align: middle;\n",
       "    }\n",
       "\n",
       "    .dataframe tbody tr th {\n",
       "        vertical-align: top;\n",
       "    }\n",
       "\n",
       "    .dataframe thead th {\n",
       "        text-align: right;\n",
       "    }\n",
       "</style>\n",
       "<table border=\"1\" class=\"dataframe\">\n",
       "  <thead>\n",
       "    <tr style=\"text-align: right;\">\n",
       "      <th>months</th>\n",
       "      <th>01</th>\n",
       "      <th>02</th>\n",
       "      <th>03</th>\n",
       "      <th>04</th>\n",
       "      <th>05</th>\n",
       "      <th>06</th>\n",
       "      <th>07</th>\n",
       "      <th>08</th>\n",
       "      <th>09</th>\n",
       "      <th>10</th>\n",
       "      <th>11</th>\n",
       "      <th>12</th>\n",
       "    </tr>\n",
       "    <tr>\n",
       "      <th>years</th>\n",
       "      <th></th>\n",
       "      <th></th>\n",
       "      <th></th>\n",
       "      <th></th>\n",
       "      <th></th>\n",
       "      <th></th>\n",
       "      <th></th>\n",
       "      <th></th>\n",
       "      <th></th>\n",
       "      <th></th>\n",
       "      <th></th>\n",
       "      <th></th>\n",
       "    </tr>\n",
       "  </thead>\n",
       "  <tbody>\n",
       "    <tr>\n",
       "      <th>2016</th>\n",
       "      <td>NaN</td>\n",
       "      <td>NaN</td>\n",
       "      <td>NaN</td>\n",
       "      <td>NaN</td>\n",
       "      <td>11242.695652</td>\n",
       "      <td>19124.366667</td>\n",
       "      <td>23314.225806</td>\n",
       "      <td>31049.193548</td>\n",
       "      <td>41476.866667</td>\n",
       "      <td>27398.322581</td>\n",
       "      <td>40448.633333</td>\n",
       "      <td>27832.419355</td>\n",
       "    </tr>\n",
       "    <tr>\n",
       "      <th>2017</th>\n",
       "      <td>32785.161290</td>\n",
       "      <td>31113.071429</td>\n",
       "      <td>29369.096774</td>\n",
       "      <td>30878.733333</td>\n",
       "      <td>34244.290323</td>\n",
       "      <td>43577.500000</td>\n",
       "      <td>65806.838710</td>\n",
       "      <td>47712.451613</td>\n",
       "      <td>47376.800000</td>\n",
       "      <td>47438.709677</td>\n",
       "      <td>57701.566667</td>\n",
       "      <td>48420.580645</td>\n",
       "    </tr>\n",
       "    <tr>\n",
       "      <th>2018</th>\n",
       "      <td>58580.096774</td>\n",
       "      <td>65679.000000</td>\n",
       "      <td>62693.774194</td>\n",
       "      <td>62350.833333</td>\n",
       "      <td>56562.870968</td>\n",
       "      <td>70117.000000</td>\n",
       "      <td>63591.064516</td>\n",
       "      <td>62831.612903</td>\n",
       "      <td>65941.733333</td>\n",
       "      <td>112592.000000</td>\n",
       "      <td>78688.333333</td>\n",
       "      <td>80047.483871</td>\n",
       "    </tr>\n",
       "    <tr>\n",
       "      <th>2019</th>\n",
       "      <td>102056.516129</td>\n",
       "      <td>105968.357143</td>\n",
       "      <td>91214.483871</td>\n",
       "      <td>89368.433333</td>\n",
       "      <td>91439.903226</td>\n",
       "      <td>162402.600000</td>\n",
       "      <td>100804.451613</td>\n",
       "      <td>117991.032258</td>\n",
       "      <td>97268.833333</td>\n",
       "      <td>150862.709677</td>\n",
       "      <td>181026.700000</td>\n",
       "      <td>173870.333333</td>\n",
       "    </tr>\n",
       "  </tbody>\n",
       "</table>\n",
       "</div>"
      ]
     },
     "execution_count": 45,
     "metadata": {},
     "output_type": "execute_result"
    }
   ],
   "execution_count": 45,
   "source": "df_grouped",
   "id": "f74670f97ac968df"
  },
  {
   "metadata": {
    "ExecuteTime": {
     "end_time": "2025-09-30T17:46:18.343339Z",
     "start_time": "2025-09-30T17:46:18.120553Z"
    }
   },
   "cell_type": "code",
   "source": [
    "fig=df_grouped.plot(kind='bar').figure\n",
    "month_names = [\n",
    "    \"January\",\"February\",\"March\",\"April\",\"May\",\"June\",\n",
    "    \"July\",\"August\",\"September\",\"October\",\"November\",\"December\"\n",
    "]\n",
    "plt.legend(title=\"Months\", labels=month_names)\n",
    "plt.xlabel(\"Years\")\n",
    "plt.ylabel(\"Average Page Views\")"
   ],
   "id": "f730a174459b12a3",
   "outputs": [
    {
     "data": {
      "text/plain": [
       "Text(0, 0.5, 'Average Page Views')"
      ]
     },
     "execution_count": 54,
     "metadata": {},
     "output_type": "execute_result"
    },
    {
     "data": {
      "text/plain": [
       "<Figure size 640x480 with 1 Axes>"
      ],
      "image/png": "[encoded data removed]"
     },
     "metadata": {},
     "output_type": "display_data",
     "jetTransient": {
      "display_id": null
     }
    }
   ],
   "execution_count": 54
  },
  {
   "metadata": {
    "ExecuteTime": {
     "end_time": "2025-09-30T17:59:11.007198Z",
     "start_time": "2025-09-30T17:59:10.985788Z"
    }
   },
   "cell_type": "code",
   "source": [
    "df = pd.read_csv('fcc-forum-pageviews.csv', index_col=\"date\"\n",
    "                     , parse_dates=True)\n",
    "df_box = df.copy()\n",
    "df_box.reset_index(inplace=True)\n",
    "df_box['year'] = [d.year for d in df_box.date]\n",
    "df_box['month'] = [d.strftime('%b') for d in df_box.date]"
   ],
   "id": "36356498ed2f7256",
   "outputs": [],
   "execution_count": 58
  },
  {
   "metadata": {
    "ExecuteTime": {
     "end_time": "2025-09-30T17:59:18.910716Z",
     "start_time": "2025-09-30T17:59:18.900906Z"
    }
   },
   "cell_type": "code",
   "source": "df_box",
   "id": "f34f5682b3c419c1",
   "outputs": [
    {
     "data": {
      "text/plain": [
       "           date   value  year month\n",
       "0    2016-05-09    1201  2016   May\n",
       "1    2016-05-10    2329  2016   May\n",
       "2    2016-05-11    1716  2016   May\n",
       "3    2016-05-12   10539  2016   May\n",
       "4    2016-05-13    6933  2016   May\n",
       "...         ...     ...   ...   ...\n",
       "1299 2019-11-29  171584  2019   Nov\n",
       "1300 2019-11-30  141161  2019   Nov\n",
       "1301 2019-12-01  142918  2019   Dec\n",
       "1302 2019-12-02  220144  2019   Dec\n",
       "1303 2019-12-03  158549  2019   Dec\n",
       "\n",
       "[1304 rows x 4 columns]"
      ],
      "text/html": [
       "<div>\n",
       "<style scoped>\n",
       "    .dataframe tbody tr th:only-of-type {\n",
       "        vertical-align: middle;\n",
       "    }\n",
       "\n",
       "    .dataframe tbody tr th {\n",
       "        vertical-align: top;\n",
       "    }\n",
       "\n",
       "    .dataframe thead th {\n",
       "        text-align: right;\n",
       "    }\n",
       "</style>\n",
       "<table border=\"1\" class=\"dataframe\">\n",
       "  <thead>\n",
       "    <tr style=\"text-align: right;\">\n",
       "      <th></th>\n",
       "      <th>date</th>\n",
       "      <th>value</th>\n",
       "      <th>year</th>\n",
       "      <th>month</th>\n",
       "    </tr>\n",
       "  </thead>\n",
       "  <tbody>\n",
       "    <tr>\n",
       "      <th>0</th>\n",
       "      <td>2016-05-09</td>\n",
       "      <td>1201</td>\n",
       "      <td>2016</td>\n",
       "      <td>May</td>\n",
       "    </tr>\n",
       "    <tr>\n",
       "      <th>1</th>\n",
       "      <td>2016-05-10</td>\n",
       "      <td>2329</td>\n",
       "      <td>2016</td>\n",
       "      <td>May</td>\n",
       "    </tr>\n",
       "    <tr>\n",
       "      <th>2</th>\n",
       "      <td>2016-05-11</td>\n",
       "      <td>1716</td>\n",
       "      <td>2016</td>\n",
       "      <td>May</td>\n",
       "    </tr>\n",
       "    <tr>\n",
       "      <th>3</th>\n",
       "      <td>2016-05-12</td>\n",
       "      <td>10539</td>\n",
       "      <td>2016</td>\n",
       "      <td>May</td>\n",
       "    </tr>\n",
       "    <tr>\n",
       "      <th>4</th>\n",
       "      <td>2016-05-13</td>\n",
       "      <td>6933</td>\n",
       "      <td>2016</td>\n",
       "      <td>May</td>\n",
       "    </tr>\n",
       "    <tr>\n",
       "      <th>...</th>\n",
       "      <td>...</td>\n",
       "      <td>...</td>\n",
       "      <td>...</td>\n",
       "      <td>...</td>\n",
       "    </tr>\n",
       "    <tr>\n",
       "      <th>1299</th>\n",
       "      <td>2019-11-29</td>\n",
       "      <td>171584</td>\n",
       "      <td>2019</td>\n",
       "      <td>Nov</td>\n",
       "    </tr>\n",
       "    <tr>\n",
       "      <th>1300</th>\n",
       "      <td>2019-11-30</td>\n",
       "      <td>141161</td>\n",
       "      <td>2019</td>\n",
       "      <td>Nov</td>\n",
       "    </tr>\n",
       "    <tr>\n",
       "      <th>1301</th>\n",
       "      <td>2019-12-01</td>\n",
       "      <td>142918</td>\n",
       "      <td>2019</td>\n",
       "      <td>Dec</td>\n",
       "    </tr>\n",
       "    <tr>\n",
       "      <th>1302</th>\n",
       "      <td>2019-12-02</td>\n",
       "      <td>220144</td>\n",
       "      <td>2019</td>\n",
       "      <td>Dec</td>\n",
       "    </tr>\n",
       "    <tr>\n",
       "      <th>1303</th>\n",
       "      <td>2019-12-03</td>\n",
       "      <td>158549</td>\n",
       "      <td>2019</td>\n",
       "      <td>Dec</td>\n",
       "    </tr>\n",
       "  </tbody>\n",
       "</table>\n",
       "<p>1304 rows × 4 columns</p>\n",
       "</div>"
      ]
     },
     "execution_count": 59,
     "metadata": {},
     "output_type": "execute_result"
    }
   ],
   "execution_count": 59
  },
  {
   "metadata": {
    "ExecuteTime": {
     "end_time": "2025-09-30T18:15:35.423064Z",
     "start_time": "2025-09-30T18:15:35.267139Z"
    }
   },
   "cell_type": "code",
   "source": [
    "sns.boxplot(data=df_box, x=\"year\", y=\"value\")\n",
    "plt.title('Year-wise Box Plot (Trend)')\n",
    "plt.xlabel(\"Year\")\n",
    "plt.ylabel(\"Page Views\")"
   ],
   "id": "9713e4d57b24d04e",
   "outputs": [
    {
     "data": {
      "text/plain": [
       "Text(0, 0.5, 'Page Views')"
      ]
     },
     "execution_count": 73,
     "metadata": {},
     "output_type": "execute_result"
    },
    {
     "data": {
      "text/plain": [
       "<Figure size 640x480 with 1 Axes>"
      ],
      "image/png": "[encoded data removed]"
     },
     "metadata": {},
     "output_type": "display_data",
     "jetTransient": {
      "display_id": null
     }
    }
   ],
   "execution_count": 73
  },
  {
   "metadata": {
    "ExecuteTime": {
     "end_time": "2025-09-30T18:15:37.561407Z",
     "start_time": "2025-09-30T18:15:37.347444Z"
    }
   },
   "cell_type": "code",
   "source": [
    "sns.boxplot(data=df_box, x=\"month\", y=\"value\", order=['Jan','Feb','Mar','Apr','May','Jun','Jul','Aug','Sep','Oct','Nov','Dec'])\n",
    "plt.title('Month-wise Box Plot (Seasonality)')\n",
    "plt.xlabel(\"Month\")\n",
    "plt.ylabel(\"Page Views\")"
   ],
   "id": "d4bb1908bbe55daf",
   "outputs": [
    {
     "data": {
      "text/plain": [
       "Text(0, 0.5, 'Page Views')"
      ]
     },
     "execution_count": 74,
     "metadata": {},
     "output_type": "execute_result"
    },
    {
     "data": {
      "text/plain": [
       "<Figure size 640x480 with 1 Axes>"
      ],
      "image/png": "[encoded data removed]"
     },
     "metadata": {},
     "output_type": "display_data",
     "jetTransient": {
      "display_id": null
     }
    }
   ],
   "execution_count": 74
  },
  {
   "metadata": {
    "ExecuteTime": {
     "end_time": "2025-09-30T18:16:45.950276Z",
     "start_time": "2025-09-30T18:16:45.609262Z"
    }
   },
   "cell_type": "code",
   "source": [
    "plt.subplot(1,2,1)\n",
    "sns.boxplot(data=df_box, x=\"year\", y=\"value\")\n",
    "plt.title('Year-wise Box Plot (Trend)')\n",
    "plt.xlabel(\"Year\")\n",
    "plt.ylabel(\"Page Views\")\n",
    "plt.subplot(1,2,2)\n",
    "sns.boxplot(data=df_box, x=\"month\", y=\"value\",\n",
    "                    order=['Jan', 'Feb', 'Mar', 'Apr', 'May', 'Jun', 'Jul', 'Aug', 'Sep', 'Oct', 'Nov', 'Dec'])\n",
    "plt.title('Month-wise Box Plot (Seasonality)')\n",
    "plt.xlabel(\"Month\")\n",
    "plt.ylabel(\"Page Views\")\n",
    "fig = plt.gcf()"
   ],
   "id": "26a0c265e1e0f6d8",
   "outputs": [
    {
     "data": {
      "text/plain": [
       "<Figure size 640x480 with 2 Axes>"
      ],
      "image/png": "[encoded data removed]"
     },
     "metadata": {},
     "output_type": "display_data",
     "jetTransient": {
      "display_id": null
     }
    }
   ],
   "execution_count": 76
  }
 ],
 "metadata": {
  "kernelspec": {
   "display_name": "Python 3",
   "language": "python",
   "name": "python3"
  },
  "language_info": {
   "codemirror_mode": {
    "name": "ipython",
    "version": 2
   },
   "file_extension": ".py",
   "mimetype": "text/x-python",
   "name": "python",
   "nbconvert_exporter": "python",
   "pygments_lexer": "ipython2",
   "version": "2.7.6"
  }
 },
 "nbformat": 4,
 "nbformat_minor": 5
}

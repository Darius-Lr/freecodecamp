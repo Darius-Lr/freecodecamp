{
 "cells": [
  {
   "metadata": {
    "ExecuteTime": {
     "end_time": "2025-09-18T10:07:45.491873Z",
     "start_time": "2025-09-18T10:07:45.437346Z"
    }
   },
   "cell_type": "code",
   "source": [
    "import pandas as pd\n",
    "import matplotlib.pyplot as plt\n",
    "df=pd.read_csv(\"adult.data.csv\")"
   ],
   "id": "b8ace8c98d1a92db",
   "outputs": [],
   "execution_count": 4
  },
  {
   "metadata": {
    "ExecuteTime": {
     "end_time": "2025-09-18T10:08:06.559628Z",
     "start_time": "2025-09-18T10:08:06.550524Z"
    }
   },
   "cell_type": "code",
   "source": [
    "average_age_men =  df[df['sex']=='Male']['age'].mean()\n",
    "print(average_age_men)"
   ],
   "id": "297959d58790d436",
   "outputs": [
    {
     "name": "stdout",
     "output_type": "stream",
     "text": [
      "39.43354749885268\n"
     ]
    }
   ],
   "execution_count": 7
  },
  {
   "metadata": {
    "ExecuteTime": {
     "end_time": "2025-09-18T10:08:38.901003Z",
     "start_time": "2025-09-18T10:08:38.895121Z"
    }
   },
   "cell_type": "code",
   "source": [
    "bachelors=(df['education']=='Bachelors').sum()\n",
    "print(bachelors)"
   ],
   "id": "9a0f4004cf9a993e",
   "outputs": [
    {
     "name": "stdout",
     "output_type": "stream",
     "text": [
      "5355\n"
     ]
    }
   ],
   "execution_count": 9
  }
 ],
 "metadata": {
  "kernelspec": {
   "display_name": "Python 3",
   "language": "python",
   "name": "python3"
  },
  "language_info": {
   "codemirror_mode": {
    "name": "ipython",
    "version": 2
   },
   "file_extension": ".py",
   "mimetype": "text/x-python",
   "name": "python",
   "nbconvert_exporter": "python",
   "pygments_lexer": "ipython2",
   "version": "2.7.6"
  }
 },
 "nbformat": 4,
 "nbformat_minor": 5
}
